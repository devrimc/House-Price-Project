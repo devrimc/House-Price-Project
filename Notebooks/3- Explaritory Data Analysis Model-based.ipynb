{
 "cells": [
  {
   "cell_type": "markdown",
   "metadata": {},
   "source": [
    "## Explaritory Data Analysis Model-based"
   ]
  },
  {
   "cell_type": "markdown",
   "metadata": {},
   "source": [
    "###### In this section as a addition to EDA, dirty models will be implemented to have an general idea about how data responds to models  and what kind of problems can be appear"
   ]
  },
  {
   "cell_type": "code",
   "execution_count": 1,
   "metadata": {},
   "outputs": [],
   "source": [
    "import pandas as pd\n",
    "import numpy as np\n",
    "from sklearn.model_selection import train_test_split\n",
    "from sklearn.linear_model import LinearRegression\n",
    "from sklearn import metrics\n",
    "from sklearn.model_selection import GridSearchCV\n",
    "from sklearn.linear_model import Ridge\n",
    "from sklearn.linear_model import Lasso"
   ]
  },
  {
   "cell_type": "code",
   "execution_count": 2,
   "metadata": {},
   "outputs": [
    {
     "data": {
      "text/html": [
       "<div>\n",
       "<style scoped>\n",
       "    .dataframe tbody tr th:only-of-type {\n",
       "        vertical-align: middle;\n",
       "    }\n",
       "\n",
       "    .dataframe tbody tr th {\n",
       "        vertical-align: top;\n",
       "    }\n",
       "\n",
       "    .dataframe thead th {\n",
       "        text-align: right;\n",
       "    }\n",
       "</style>\n",
       "<table border=\"1\" class=\"dataframe\">\n",
       "  <thead>\n",
       "    <tr style=\"text-align: right;\">\n",
       "      <th></th>\n",
       "      <th>MSSubClass</th>\n",
       "      <th>MSZoning</th>\n",
       "      <th>LotFrontage</th>\n",
       "      <th>LotArea</th>\n",
       "      <th>Street</th>\n",
       "      <th>Alley</th>\n",
       "      <th>LotShape</th>\n",
       "      <th>LandContour</th>\n",
       "      <th>Utilities</th>\n",
       "      <th>LotConfig</th>\n",
       "      <th>...</th>\n",
       "      <th>ScreenPorch</th>\n",
       "      <th>PoolArea</th>\n",
       "      <th>PoolQC</th>\n",
       "      <th>Fence</th>\n",
       "      <th>MiscFeature</th>\n",
       "      <th>MiscVal</th>\n",
       "      <th>MoSold</th>\n",
       "      <th>YrSold</th>\n",
       "      <th>SaleType</th>\n",
       "      <th>SalePrice</th>\n",
       "    </tr>\n",
       "  </thead>\n",
       "  <tbody>\n",
       "    <tr>\n",
       "      <th>0</th>\n",
       "      <td>60</td>\n",
       "      <td>RL</td>\n",
       "      <td>65.0</td>\n",
       "      <td>8450</td>\n",
       "      <td>Pave</td>\n",
       "      <td>NoAll</td>\n",
       "      <td>Reg</td>\n",
       "      <td>Lvl</td>\n",
       "      <td>AllPub</td>\n",
       "      <td>Inside</td>\n",
       "      <td>...</td>\n",
       "      <td>0</td>\n",
       "      <td>0</td>\n",
       "      <td>NoP</td>\n",
       "      <td>NoF</td>\n",
       "      <td>NoM</td>\n",
       "      <td>0</td>\n",
       "      <td>2</td>\n",
       "      <td>2008</td>\n",
       "      <td>WD</td>\n",
       "      <td>208500</td>\n",
       "    </tr>\n",
       "    <tr>\n",
       "      <th>1</th>\n",
       "      <td>20</td>\n",
       "      <td>RL</td>\n",
       "      <td>80.0</td>\n",
       "      <td>9600</td>\n",
       "      <td>Pave</td>\n",
       "      <td>NoAll</td>\n",
       "      <td>Reg</td>\n",
       "      <td>Lvl</td>\n",
       "      <td>AllPub</td>\n",
       "      <td>FR2</td>\n",
       "      <td>...</td>\n",
       "      <td>0</td>\n",
       "      <td>0</td>\n",
       "      <td>NoP</td>\n",
       "      <td>NoF</td>\n",
       "      <td>NoM</td>\n",
       "      <td>0</td>\n",
       "      <td>5</td>\n",
       "      <td>2007</td>\n",
       "      <td>WD</td>\n",
       "      <td>181500</td>\n",
       "    </tr>\n",
       "    <tr>\n",
       "      <th>2</th>\n",
       "      <td>60</td>\n",
       "      <td>RL</td>\n",
       "      <td>68.0</td>\n",
       "      <td>11250</td>\n",
       "      <td>Pave</td>\n",
       "      <td>NoAll</td>\n",
       "      <td>IR1</td>\n",
       "      <td>Lvl</td>\n",
       "      <td>AllPub</td>\n",
       "      <td>Inside</td>\n",
       "      <td>...</td>\n",
       "      <td>0</td>\n",
       "      <td>0</td>\n",
       "      <td>NoP</td>\n",
       "      <td>NoF</td>\n",
       "      <td>NoM</td>\n",
       "      <td>0</td>\n",
       "      <td>9</td>\n",
       "      <td>2008</td>\n",
       "      <td>WD</td>\n",
       "      <td>223500</td>\n",
       "    </tr>\n",
       "    <tr>\n",
       "      <th>3</th>\n",
       "      <td>70</td>\n",
       "      <td>RL</td>\n",
       "      <td>60.0</td>\n",
       "      <td>9550</td>\n",
       "      <td>Pave</td>\n",
       "      <td>NoAll</td>\n",
       "      <td>IR1</td>\n",
       "      <td>Lvl</td>\n",
       "      <td>AllPub</td>\n",
       "      <td>Corner</td>\n",
       "      <td>...</td>\n",
       "      <td>0</td>\n",
       "      <td>0</td>\n",
       "      <td>NoP</td>\n",
       "      <td>NoF</td>\n",
       "      <td>NoM</td>\n",
       "      <td>0</td>\n",
       "      <td>2</td>\n",
       "      <td>2006</td>\n",
       "      <td>WD</td>\n",
       "      <td>140000</td>\n",
       "    </tr>\n",
       "    <tr>\n",
       "      <th>4</th>\n",
       "      <td>60</td>\n",
       "      <td>RL</td>\n",
       "      <td>84.0</td>\n",
       "      <td>14260</td>\n",
       "      <td>Pave</td>\n",
       "      <td>NoAll</td>\n",
       "      <td>IR1</td>\n",
       "      <td>Lvl</td>\n",
       "      <td>AllPub</td>\n",
       "      <td>FR2</td>\n",
       "      <td>...</td>\n",
       "      <td>0</td>\n",
       "      <td>0</td>\n",
       "      <td>NoP</td>\n",
       "      <td>NoF</td>\n",
       "      <td>NoM</td>\n",
       "      <td>0</td>\n",
       "      <td>12</td>\n",
       "      <td>2008</td>\n",
       "      <td>WD</td>\n",
       "      <td>250000</td>\n",
       "    </tr>\n",
       "  </tbody>\n",
       "</table>\n",
       "<p>5 rows × 79 columns</p>\n",
       "</div>"
      ],
      "text/plain": [
       "   MSSubClass MSZoning  LotFrontage  LotArea Street  Alley LotShape  \\\n",
       "0          60       RL         65.0     8450   Pave  NoAll      Reg   \n",
       "1          20       RL         80.0     9600   Pave  NoAll      Reg   \n",
       "2          60       RL         68.0    11250   Pave  NoAll      IR1   \n",
       "3          70       RL         60.0     9550   Pave  NoAll      IR1   \n",
       "4          60       RL         84.0    14260   Pave  NoAll      IR1   \n",
       "\n",
       "  LandContour Utilities LotConfig    ...     ScreenPorch PoolArea PoolQC  \\\n",
       "0         Lvl    AllPub    Inside    ...               0        0    NoP   \n",
       "1         Lvl    AllPub       FR2    ...               0        0    NoP   \n",
       "2         Lvl    AllPub    Inside    ...               0        0    NoP   \n",
       "3         Lvl    AllPub    Corner    ...               0        0    NoP   \n",
       "4         Lvl    AllPub       FR2    ...               0        0    NoP   \n",
       "\n",
       "  Fence MiscFeature MiscVal  MoSold  YrSold  SaleType  SalePrice  \n",
       "0   NoF         NoM       0       2    2008        WD     208500  \n",
       "1   NoF         NoM       0       5    2007        WD     181500  \n",
       "2   NoF         NoM       0       9    2008        WD     223500  \n",
       "3   NoF         NoM       0       2    2006        WD     140000  \n",
       "4   NoF         NoM       0      12    2008        WD     250000  \n",
       "\n",
       "[5 rows x 79 columns]"
      ]
     },
     "execution_count": 2,
     "metadata": {},
     "output_type": "execute_result"
    }
   ],
   "source": [
    "df = pd.read_csv(\"data.csv\")\n",
    "df = df.drop(\"Unnamed: 0\", axis=1)\n",
    "df.head()\n"
   ]
  },
  {
   "cell_type": "code",
   "execution_count": 3,
   "metadata": {},
   "outputs": [],
   "source": [
    "df.SalePrice = np.log(df.SalePrice)"
   ]
  },
  {
   "cell_type": "code",
   "execution_count": 4,
   "metadata": {},
   "outputs": [],
   "source": [
    "y = df.SalePrice\n",
    "X = df.drop([\"SalePrice\", \"LotFrontage\"], axis=1)\n",
    "X = pd.get_dummies(X, prefix_sep='_', drop_first=True)\n",
    "X_train, X_test, y_train, y_test = train_test_split(X, y, test_size= 0.2, random_state= 101)\n",
    "\n",
    "prms = { \"alpha\" : [1e-10,1e-5,1e-3,1e-2,1e-1,0,0.01,0.1,1,5,10,15,20,25,50]}"
   ]
  },
  {
   "cell_type": "markdown",
   "metadata": {},
   "source": [
    "##### Linear Regression"
   ]
  },
  {
   "cell_type": "code",
   "execution_count": 6,
   "metadata": {},
   "outputs": [
    {
     "name": "stdout",
     "output_type": "stream",
     "text": [
      "Train Error = 0.08897954371812186\n",
      "Test Error = 0.22116210307918469\n"
     ]
    }
   ],
   "source": [
    "lm = LinearRegression()\n",
    "lm.fit(X_train, y_train)\n",
    "\n",
    "lm_pred_train = lm.predict(X_train)\n",
    "lm_error_train = np.sqrt(metrics.mean_squared_error(y_train, lm_pred_train))\n",
    "\n",
    "lm_pred_test = lm.predict(X_test)\n",
    "lm_error_test = np.sqrt(metrics.mean_squared_error(y_test, lm_pred_test))\n",
    "\n",
    "print(f'Train Error = {lm_error_train}\\nTest Error = {lm_error_test}')"
   ]
  },
  {
   "cell_type": "markdown",
   "metadata": {},
   "source": [
    "##### Ridge Regression"
   ]
  },
  {
   "cell_type": "code",
   "execution_count": 8,
   "metadata": {},
   "outputs": [
    {
     "name": "stdout",
     "output_type": "stream",
     "text": [
      "Train Error = 0.10561217963427393\n",
      "Test Error = 0.1976515586193654\n"
     ]
    }
   ],
   "source": [
    "ridge = Ridge()\n",
    "ridge_reg = GridSearchCV(ridge, prms, scoring=\"neg_mean_squared_error\", cv=5)\n",
    "ridge_reg.fit(X_train,y_train)\n",
    "\n",
    "ridge_pred_train = ridge_reg.predict(X_train)\n",
    "ridge_error_train = np.sqrt(metrics.mean_squared_error(y_train, ridge_pred_train))\n",
    "\n",
    "ridge_pred_test = ridge_reg.predict(X_test)\n",
    "ridge_error_test = np.sqrt(metrics.mean_squared_error(y_test, ridge_pred_test))\n",
    "\n",
    "print(f'Train Error = {ridge_error_train}\\nTest Error = {ridge_error_test}')"
   ]
  },
  {
   "cell_type": "markdown",
   "metadata": {},
   "source": [
    "##### Lasso Regression"
   ]
  },
  {
   "cell_type": "code",
   "execution_count": 10,
   "metadata": {},
   "outputs": [
    {
     "name": "stdout",
     "output_type": "stream",
     "text": [
      "Train Error = 0.11374717687259595\n",
      "Test Error = 0.20261792971756543\n"
     ]
    }
   ],
   "source": [
    "lasso = Lasso()\n",
    "lasso_reg = GridSearchCV(lasso, prms, scoring=\"neg_mean_squared_error\", cv=5)\n",
    "lasso_reg.fit(X_train,y_train)\n",
    "\n",
    "lasso_pred_train = lasso_reg.predict(X_train)\n",
    "lasso_error_train = np.sqrt(metrics.mean_squared_error(y_train, lasso_pred_train))\n",
    "\n",
    "lasso_pred_test = lasso_reg.predict(X_test)\n",
    "lasso_error_test = np.sqrt(metrics.mean_squared_error(y_test, lasso_pred_test))\n",
    "\n",
    "print(f'Train Error = {lasso_error_train}\\nTest Error = {lasso_error_test}')"
   ]
  }
 ],
 "metadata": {
  "kernelspec": {
   "display_name": "Python 3",
   "language": "python",
   "name": "python3"
  },
  "language_info": {
   "codemirror_mode": {
    "name": "ipython",
    "version": 3
   },
   "file_extension": ".py",
   "mimetype": "text/x-python",
   "name": "python",
   "nbconvert_exporter": "python",
   "pygments_lexer": "ipython3",
   "version": "3.7.0"
  }
 },
 "nbformat": 4,
 "nbformat_minor": 2
}
